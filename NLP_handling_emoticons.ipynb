{
  "nbformat": 4,
  "nbformat_minor": 0,
  "metadata": {
    "colab": {
      "provenance": []
    },
    "kernelspec": {
      "name": "python3",
      "display_name": "Python 3"
    },
    "language_info": {
      "name": "python"
    }
  },
  "cells": [
    {
      "cell_type": "code",
      "source": [
        "import re\n",
        "import emoji\n",
        "import numpy as np\n",
        "import tensorflow as tf\n",
        "from tensorflow.keras.preprocessing.text import Tokenizer\n",
        "from tensorflow.keras.preprocessing.sequence import pad_sequences\n",
        "from tensorflow.keras.models import Sequential\n",
        "from tensorflow.keras.layers import Embedding, LSTM, Dense, Dropout\n",
        "from sklearn.model_selection import train_test_split\n",
        "from sklearn.preprocessing import LabelEncoder"
      ],
      "metadata": {
        "id": "QuqDh7II90Ct"
      },
      "execution_count": null,
      "outputs": []
    },
    {
      "cell_type": "code",
      "source": [
        "!pip install emoji"
      ],
      "metadata": {
        "colab": {
          "base_uri": "https://localhost:8080/"
        },
        "id": "u2pXmGO5-AhE",
        "outputId": "f07105a3-be57-4644-96c4-430c84f7eb6b"
      },
      "execution_count": null,
      "outputs": [
        {
          "output_type": "stream",
          "name": "stdout",
          "text": [
            "Requirement already satisfied: emoji in /usr/local/lib/python3.10/dist-packages (2.12.1)\n",
            "Requirement already satisfied: typing-extensions>=4.7.0 in /usr/local/lib/python3.10/dist-packages (from emoji) (4.12.2)\n"
          ]
        }
      ]
    },
    {
      "cell_type": "code",
      "source": [
        "texts = [\n",
        "    \"I love machine learning! 😊\",\n",
        "    \"Deep learning is fascinating 😍\",\n",
        "    \"I am sad about the current situation 😢\",\n",
        "    \"This is the worst day ever 😠\",\n",
        "    \"I am feeling great today! 😊\"\n",
        "]\n",
        "\n",
        "labels = [\"positive\", \"positive\", \"negative\", \"negative\", \"positive\"]\n",
        "\n",
        "def handle_emoticons(text):\n",
        "  return emoji. demojize(text, delimiters=(\" \", \" \"))"
      ],
      "metadata": {
        "id": "96FL2lu_B7-j"
      },
      "execution_count": null,
      "outputs": []
    },
    {
      "cell_type": "code",
      "source": [
        "text = [handle_emoticons(text) for text in texts]"
      ],
      "metadata": {
        "id": "2Gr_1LM5C2t0"
      },
      "execution_count": null,
      "outputs": []
    },
    {
      "cell_type": "code",
      "source": [
        "tokenizer = Tokenizer(num_words = 10000)\n",
        "tokenizer.fit_on_texts(text)\n",
        "sequences = tokenizer.texts_to_sequences(text)\n",
        "word_index = tokenizer.word_index"
      ],
      "metadata": {
        "id": "t3cVBYoCDVj_"
      },
      "execution_count": null,
      "outputs": []
    },
    {
      "cell_type": "code",
      "source": [
        "data = pad_sequences(sequences, maxlen=50)\n",
        "\n",
        "encoder = LabelEncoder()\n",
        "encoder_labels = encoder.fit_transform(labels)\n",
        "labels = np.array(encoder_labels)"
      ],
      "metadata": {
        "id": "plrkmrxDDoA3"
      },
      "execution_count": null,
      "outputs": []
    },
    {
      "cell_type": "code",
      "source": [
        "x_train, x_test, y_train, y_test = train_test_split(data, labels, test_size=0.2, random_state=42)"
      ],
      "metadata": {
        "id": "aRwedJTSEFpg"
      },
      "execution_count": null,
      "outputs": []
    },
    {
      "cell_type": "code",
      "source": [
        "model = Sequential()\n",
        "model.add(Embedding(input_dim=10000, output_dim=128, input_length=50))\n",
        "model.add(LSTM(units=128, return_sequences=True))\n",
        "model.add(Dropout(0.5))\n",
        "model.add(LSTM(units=128))\n",
        "model.add(Dropout(0.5))\n",
        "model.add(Dense(units=1, activation='sigmoid'))\n",
        "\n",
        "model.compile(loss='binary_crossentropy', optimizer='adam', metrics=['accuracy'])\n",
        "\n",
        "model.fit(x_train, y_train, epochs=25, batch_size=32, validation_split=0.2)\n"
      ],
      "metadata": {
        "colab": {
          "base_uri": "https://localhost:8080/"
        },
        "id": "izqACnKEEL-F",
        "outputId": "bb110270-01a0-40f7-896c-33ef54fd138f"
      },
      "execution_count": null,
      "outputs": [
        {
          "output_type": "stream",
          "name": "stdout",
          "text": [
            "Epoch 1/25\n",
            "1/1 [==============================] - 6s 6s/step - loss: 0.6952 - accuracy: 0.3333 - val_loss: 0.7048 - val_accuracy: 0.0000e+00\n",
            "Epoch 2/25\n",
            "1/1 [==============================] - 0s 162ms/step - loss: 0.6870 - accuracy: 0.6667 - val_loss: 0.7236 - val_accuracy: 0.0000e+00\n",
            "Epoch 3/25\n",
            "1/1 [==============================] - 0s 125ms/step - loss: 0.6804 - accuracy: 0.6667 - val_loss: 0.7469 - val_accuracy: 0.0000e+00\n",
            "Epoch 4/25\n",
            "1/1 [==============================] - 0s 137ms/step - loss: 0.6699 - accuracy: 0.6667 - val_loss: 0.7810 - val_accuracy: 0.0000e+00\n",
            "Epoch 5/25\n",
            "1/1 [==============================] - 0s 139ms/step - loss: 0.6746 - accuracy: 0.6667 - val_loss: 0.8121 - val_accuracy: 0.0000e+00\n",
            "Epoch 6/25\n",
            "1/1 [==============================] - 0s 128ms/step - loss: 0.6404 - accuracy: 0.6667 - val_loss: 0.8676 - val_accuracy: 0.0000e+00\n",
            "Epoch 7/25\n",
            "1/1 [==============================] - 0s 134ms/step - loss: 0.6200 - accuracy: 0.6667 - val_loss: 0.9571 - val_accuracy: 0.0000e+00\n",
            "Epoch 8/25\n",
            "1/1 [==============================] - 0s 121ms/step - loss: 0.6005 - accuracy: 0.6667 - val_loss: 1.0789 - val_accuracy: 0.0000e+00\n",
            "Epoch 9/25\n",
            "1/1 [==============================] - 0s 143ms/step - loss: 0.6529 - accuracy: 0.6667 - val_loss: 1.1613 - val_accuracy: 0.0000e+00\n",
            "Epoch 10/25\n",
            "1/1 [==============================] - 0s 170ms/step - loss: 0.5942 - accuracy: 0.6667 - val_loss: 1.2052 - val_accuracy: 0.0000e+00\n",
            "Epoch 11/25\n",
            "1/1 [==============================] - 0s 135ms/step - loss: 0.5952 - accuracy: 0.6667 - val_loss: 1.2108 - val_accuracy: 0.0000e+00\n",
            "Epoch 12/25\n",
            "1/1 [==============================] - 0s 145ms/step - loss: 0.5798 - accuracy: 0.6667 - val_loss: 1.1613 - val_accuracy: 0.0000e+00\n",
            "Epoch 13/25\n",
            "1/1 [==============================] - 0s 147ms/step - loss: 0.6013 - accuracy: 0.6667 - val_loss: 1.0664 - val_accuracy: 0.0000e+00\n",
            "Epoch 14/25\n",
            "1/1 [==============================] - 0s 127ms/step - loss: 0.5234 - accuracy: 0.6667 - val_loss: 0.9908 - val_accuracy: 0.0000e+00\n",
            "Epoch 15/25\n",
            "1/1 [==============================] - 0s 143ms/step - loss: 0.5788 - accuracy: 0.6667 - val_loss: 0.9065 - val_accuracy: 0.0000e+00\n",
            "Epoch 16/25\n",
            "1/1 [==============================] - 0s 152ms/step - loss: 0.5316 - accuracy: 0.6667 - val_loss: 0.8587 - val_accuracy: 0.0000e+00\n",
            "Epoch 17/25\n",
            "1/1 [==============================] - 0s 128ms/step - loss: 0.4879 - accuracy: 1.0000 - val_loss: 0.8637 - val_accuracy: 0.0000e+00\n",
            "Epoch 18/25\n",
            "1/1 [==============================] - 0s 134ms/step - loss: 0.5143 - accuracy: 0.6667 - val_loss: 0.8702 - val_accuracy: 0.0000e+00\n",
            "Epoch 19/25\n",
            "1/1 [==============================] - 0s 162ms/step - loss: 0.4129 - accuracy: 1.0000 - val_loss: 0.9108 - val_accuracy: 0.0000e+00\n",
            "Epoch 20/25\n",
            "1/1 [==============================] - 0s 142ms/step - loss: 0.4120 - accuracy: 1.0000 - val_loss: 0.9592 - val_accuracy: 0.0000e+00\n",
            "Epoch 21/25\n",
            "1/1 [==============================] - 0s 172ms/step - loss: 0.3773 - accuracy: 1.0000 - val_loss: 0.9978 - val_accuracy: 0.0000e+00\n",
            "Epoch 22/25\n",
            "1/1 [==============================] - 0s 235ms/step - loss: 0.3100 - accuracy: 1.0000 - val_loss: 1.1100 - val_accuracy: 0.0000e+00\n",
            "Epoch 23/25\n",
            "1/1 [==============================] - 0s 233ms/step - loss: 0.2725 - accuracy: 1.0000 - val_loss: 1.1158 - val_accuracy: 0.0000e+00\n",
            "Epoch 24/25\n",
            "1/1 [==============================] - 0s 247ms/step - loss: 0.2269 - accuracy: 1.0000 - val_loss: 0.8546 - val_accuracy: 0.0000e+00\n",
            "Epoch 25/25\n",
            "1/1 [==============================] - 0s 236ms/step - loss: 0.1700 - accuracy: 1.0000 - val_loss: 0.5824 - val_accuracy: 1.0000\n"
          ]
        },
        {
          "output_type": "execute_result",
          "data": {
            "text/plain": [
              "<keras.src.callbacks.History at 0x7d8c586a1a50>"
            ]
          },
          "metadata": {},
          "execution_count": 23
        }
      ]
    },
    {
      "cell_type": "code",
      "source": [
        "loss, accuracy= model.evaluate(x_test, y_test)\n",
        "print(f\"Test Loss:\", loss)\n",
        "print(f\"Test Accuracy:\", accuracy)"
      ],
      "metadata": {
        "colab": {
          "base_uri": "https://localhost:8080/"
        },
        "id": "FB5OqqOvJEjw",
        "outputId": "329463b2-591c-401a-847f-d20c83c8d855"
      },
      "execution_count": null,
      "outputs": [
        {
          "output_type": "stream",
          "name": "stdout",
          "text": [
            "1/1 [==============================] - 0s 45ms/step - loss: 0.2230 - accuracy: 1.0000\n",
            "Test Loss: 0.22298061847686768\n",
            "Test Accuracy: 1.0\n"
          ]
        }
      ]
    },
    {
      "cell_type": "code",
      "source": [
        "predictions = model.predict(x_test)\n",
        "predictions = (predictions > 0.5).astype(int)"
      ],
      "metadata": {
        "colab": {
          "base_uri": "https://localhost:8080/"
        },
        "id": "4a541A3uKZgc",
        "outputId": "b579d557-1710-4493-b1a4-95f58fabfda8"
      },
      "execution_count": null,
      "outputs": [
        {
          "output_type": "stream",
          "name": "stdout",
          "text": [
            "1/1 [==============================] - 0s 43ms/step\n"
          ]
        }
      ]
    },
    {
      "cell_type": "code",
      "source": [
        "predicted_labels = encoder.inverse_transform(predictions)\n",
        "true_labels = encoder.inverse_transform(y_test)"
      ],
      "metadata": {
        "colab": {
          "base_uri": "https://localhost:8080/"
        },
        "id": "B2_i9Dr-Ki-S",
        "outputId": "af0acd35-2fce-4c4d-ddb8-558039c8f423"
      },
      "execution_count": null,
      "outputs": [
        {
          "output_type": "stream",
          "name": "stderr",
          "text": [
            "/usr/local/lib/python3.10/dist-packages/sklearn/preprocessing/_label.py:155: DataConversionWarning: A column-vector y was passed when a 1d array was expected. Please change the shape of y to (n_samples, ), for example using ravel().\n",
            "  y = column_or_1d(y, warn=True)\n"
          ]
        }
      ]
    },
    {
      "cell_type": "code",
      "source": [
        "print(\"predictions:\",predicted_labels)\n",
        "print(\"true_labels:\",true_labels)"
      ],
      "metadata": {
        "colab": {
          "base_uri": "https://localhost:8080/"
        },
        "id": "JGYwUsj9KypC",
        "outputId": "3d699407-ca8a-4c39-9e36-f12dc82708fc"
      },
      "execution_count": null,
      "outputs": [
        {
          "output_type": "stream",
          "name": "stdout",
          "text": [
            "predictions: ['positive']\n",
            "true_labels: ['positive']\n"
          ]
        }
      ]
    },
    {
      "cell_type": "code",
      "source": [],
      "metadata": {
        "id": "t2GqRKK4K8gK"
      },
      "execution_count": null,
      "outputs": []
    }
  ]
}